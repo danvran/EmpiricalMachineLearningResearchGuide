{
 "cells": [
  {
   "cell_type": "markdown",
   "metadata": {},
   "source": [
    "<h2 style=\"color: #33ccff;\">Designing Experiments for Statistical Testing</h2>\n",
    "\n",
    "This notebook is supplemental to the paper published at [arXiv](https://arxiv.org/abs/2405.18077) and focuses on the part of the statistical evaluation of experimental results.\n",
    "\n",
    "In the domain of ML, researchers often want to compare the performance of an algorithm to other algorithms. Since this is not possible through theoretical analysis, experiments are conducted that deliver a metric of interest, such as accuracy or f1 score. Then those metrics are compared between algorithms. To allow for meaningfull analysis of those metrics, simple comparison of mean and variance values over the algorithm metrics is not sufficient. Statistical tests offer a method of testing whether one algorithm is performing better than another with a measurable level of certainty. Here we go through a mock-example of how this can be achieved."
   ]
  },
  {
   "cell_type": "markdown",
   "metadata": {},
   "source": [
    "<h3 style=\"color: #33ccff;\">1. Hypothesis Design</h3>\n",
    "\n",
    "First, we need to design the hypotheses, which we want to test. They consist of the null hypothesis, stating no effect, and the alternative hypothesis, stating a (desired) effect.\n",
    "* H0: Algorithm A and B have the same mean performance.\n",
    "* HA: Algorithm A has a better mean performance than algorithm B."
   ]
  },
  {
   "cell_type": "markdown",
   "metadata": {},
   "source": [
    "<h3 style=\"color: #33ccff;\">2. Power Analysis (Sample size calculation)</h3>\n",
    "\n",
    "Determining the number of samples needed in advance is critical for ensuring a study has adequate power to detect a statistically significant difference between two algorithms if one exists. This process is known as power analysis, and it involves several key components: the effect size, the desired statistical power, the significance level, and the variability in the data.\n",
    "\n",
    "1. Defining the Effect Size (must)\n",
    "\n",
    "Effect size quantifies the magnitude of a difference or relationship in statistical analysis, with values varying significantly across different fields and contexts. Common measures include:\n",
    "\n",
    "* Cohen’s d for mean differences: small (0.20), medium (0.50), and large (0.80).\n",
    "* Pearson's r for correlations: small (0.10), medium (0.30), and large (0.50).\n",
    "* Odds Ratio (OR) and Risk Ratio (RR) in epidemiological studies.\n",
    "* Eta squared (η²) and Omega squared (ω²) in ANOVA: small (0.01 for η²), medium (0.06 for η²), and large (0.14 for η²).\n",
    "\n",
    "2. Setting the Desired Power (must)\n",
    "\n",
    "Power is the probability that a test correctly rejects the null hypothesis when it is false (i.e., detects an effect if there is one). A common target is 0.80, meaning there's an 80% chance of detecting an effect if one truly exists.\n",
    "\n",
    "3. Choosing the Significance Level (alpha) (must)\n",
    "\n",
    "The significance level (alpha) is the threshold for rejecting the null hypothesis. It’s typically set at 0.05, which means there’s a 5% chance of rejecting the null hypothesis when it's actually true (Type I error).\n",
    "\n",
    "4. Estimating Variability (optional)\n",
    "\n",
    "Existing data can be used to estimate the variability (standard deviation) in the performance metrics. The greater the variability, the larger the sample size needed to detect a given effect size.\n",
    "\n",
    "5. Power Analysis Tools\n",
    "\n",
    "* Using Software like G*Power or R: These tools offer comprehensive options for power analysis.\n",
    "* Python Libraries: Libraries like statsmodels can be used for power calculations.\n",
    "\n",
    "Below we use statsmodels to compute a required sample size."
   ]
  },
  {
   "cell_type": "code",
   "execution_count": 21,
   "metadata": {},
   "outputs": [
    {
     "name": "stdout",
     "output_type": "stream",
     "text": [
      "Required sample size per group: 63.77\n"
     ]
    }
   ],
   "source": [
    "import statsmodels.stats.power as smp\n",
    "\n",
    "# Parameters\n",
    "effect_size = 0.5  # Cohen's d\n",
    "alpha = 0.05       # Significance level\n",
    "power = 0.80       # Desired power\n",
    "ratio = 1          # Ratio of sample sizes in both groups (1 if equal size)\n",
    "\n",
    "# Calculate sample size\n",
    "sample_size = smp.TTestIndPower().solve_power(effect_size=effect_size, alpha=alpha, power=power, ratio=ratio)\n",
    "print(f\"Required sample size per group: {sample_size:.2f}\")\n"
   ]
  },
  {
   "cell_type": "markdown",
   "metadata": {},
   "source": [
    "<h3 style=\"color: #33ccff;\">4. Experiment Execution</h3>\n",
    "\n",
    "Here we randomly sample values for A and B from normal distributions to represent data from experiments."
   ]
  },
  {
   "cell_type": "code",
   "execution_count": 13,
   "metadata": {},
   "outputs": [
    {
     "name": "stdout",
     "output_type": "stream",
     "text": [
      "First few samples from Algorithm A: [104.96714153  98.61735699 106.47688538 115.23029856  97.65846625]\n",
      "First few samples from Algorithm B: [75.84629258 85.79354677 86.57285483 81.97722731 88.38714288]\n"
     ]
    }
   ],
   "source": [
    "import numpy as np\n",
    "\n",
    "# Set the seed for reproducibility\n",
    "np.random.seed(42)\n",
    "\n",
    "# Parameters for the normal distributions\n",
    "# Algorithm A: mean = 100, standard deviation = 10\n",
    "# Algorithm B: mean = 95, standard deviation = 10\n",
    "mean_A = 100\n",
    "std_A = 10\n",
    "mean_B = 90\n",
    "std_B = 10\n",
    "\n",
    "# Generate random samples for each algorithm\n",
    "samples = 100\n",
    "samples_A = np.random.normal(mean_A, std_A, samples)\n",
    "samples_B = np.random.normal(mean_B, std_B, samples)\n",
    "\n",
    "# Print the first few samples to check\n",
    "print(\"First few samples from Algorithm A:\", samples_A[:5])\n",
    "print(\"First few samples from Algorithm B:\", samples_B[:5])\n"
   ]
  },
  {
   "cell_type": "markdown",
   "metadata": {},
   "source": [
    "<h3 style=\"color: #33ccff;\">5. Post-experimental Tests prior to Statistical Testing</h3>"
   ]
  },
  {
   "cell_type": "markdown",
   "metadata": {},
   "source": [
    "<h3 style=\"color: #33ccff;\">5a. Checking the Posterior Cohen's d</h3>\n",
    "\n",
    "After experiment execution, we can compute the actual value of Cohen's d and compare it to our initial estimate."
   ]
  },
  {
   "cell_type": "code",
   "execution_count": 6,
   "metadata": {},
   "outputs": [
    {
     "name": "stdout",
     "output_type": "stream",
     "text": [
      "Effect Size (Cohen's d): 0.531\n",
      "Power of the test: 0.962\n"
     ]
    }
   ],
   "source": [
    "import numpy as np\n",
    "from scipy import stats\n",
    "import statsmodels.stats.power as smp\n",
    "\n",
    "# Calculate Cohen's d\n",
    "def cohen_d(x, y):\n",
    "    nx = len(x)\n",
    "    ny = len(y)\n",
    "    dof = nx + ny - 2\n",
    "    return (np.mean(x) - np.mean(y)) / np.sqrt(((nx - 1) * np.std(x, ddof=1) ** 2 + (ny - 1) * np.std(y, ddof=1) ** 2) / dof)\n",
    "\n",
    "\n",
    "# Calculate effect size\n",
    "d = cohen_d(samples_A, samples_B)\n",
    "\n",
    "# Power analysis\n",
    "power_analysis = smp.TTestIndPower()\n",
    "power = power_analysis.solve_power(effect_size=d, nobs1=samples, ratio=1.0, alpha=0.05)\n",
    "\n",
    "print(f\"Effect Size (Cohen's d): {d:.3f}\")\n",
    "print(f\"Power of the test: {power:.3f}\")\n"
   ]
  },
  {
   "cell_type": "markdown",
   "metadata": {},
   "source": [
    "<h3 style=\"color: #33ccff;\">5b. Testing for Normality</h3>\n",
    "\n",
    "The [Shapiro-Wilk](https://docs.scipy.org/doc/scipy/reference/generated/scipy.stats.shapiro.html) test is a common test for normality that evaluates whether a dataset is likely to have been drawn from a Gaussian distribution. A high p-value (typically > 0.05) suggests that the null hypothesis of normality cannot be rejected. Hence, we assume normality for high p-values."
   ]
  },
  {
   "cell_type": "code",
   "execution_count": 7,
   "metadata": {},
   "outputs": [
    {
     "name": "stdout",
     "output_type": "stream",
     "text": [
      "Shapiro-Wilk Test for Algorithm A:\n",
      "Statistic: 0.9899, P-value: 0.6551\n",
      "\n",
      "Shapiro-Wilk Test for Algorithm B:\n",
      "Statistic: 0.9775, P-value: 0.0853\n"
     ]
    }
   ],
   "source": [
    "# Perform the Shapiro-Wilk test for normality\n",
    "shapiro_test_A = stats.shapiro(samples_A)\n",
    "shapiro_test_B = stats.shapiro(samples_B)\n",
    "\n",
    "print(\"Shapiro-Wilk Test for Algorithm A:\")\n",
    "print(f\"Statistic: {shapiro_test_A[0]:.4f}, P-value: {shapiro_test_A[1]:.4f}\")\n",
    "\n",
    "print(\"\\nShapiro-Wilk Test for Algorithm B:\")\n",
    "print(f\"Statistic: {shapiro_test_B[0]:.4f}, P-value: {shapiro_test_B[1]:.4f}\")\n"
   ]
  },
  {
   "cell_type": "markdown",
   "metadata": {},
   "source": [
    "[Quantile-Quantile (Q-Q) plots](https://www.statsmodels.org/stable/generated/statsmodels.graphics.gofplots.qqplot.html) are visual methods for assessing if data come from a particular distribution. They plot the quantiles of the data against the quantiles of the theoretical distribution.\n",
    "* Straight Line: In a Q-Q plot, the quantiles of the data are plotted against the quantiles of a specified theoretical distribution. For data that follows a normal distribution, the points should ideally lie on a straight diagonal line that typically runs from the bottom left to the top right of the plot.\n",
    "* S-shaped Curve: If the plot shows an S-shaped curve, this indicates that the data has heavier tails than the normal distribution. This means there are more extreme values (both low and high) than what would be expected in a normal distribution.\n",
    "* Left-Skewed Data: If the points curve upward and then level off, it suggests that the data are left-skewed compared to the normal distribution.\n",
    "* Right-Skewed Data: If the points curve downward before leveling off, it indicates right-skewed data.\n"
   ]
  },
  {
   "cell_type": "code",
   "execution_count": 11,
   "metadata": {},
   "outputs": [
    {
     "data": {
      "image/png": "[encoded data removed]",
      "text/plain": [
       "<Figure size 800x400 with 2 Axes>"
      ]
     },
     "metadata": {},
     "output_type": "display_data"
    }
   ],
   "source": [
    "import matplotlib.pyplot as plt\n",
    "import statsmodels.api as sm\n",
    "\n",
    "# Set up the figure and axes\n",
    "fig, (ax1, ax2) = plt.subplots(1, 2, figsize=(8, 4))\n",
    "\n",
    "# Generate Q-Q plot for Algorithm A\n",
    "sm.qqplot(samples_A, line='45', fit=True, ax=ax1)\n",
    "ax1.set_title('Q-Q Plot for Algorithm A')\n",
    "\n",
    "# Generate Q-Q plot for Algorithm B\n",
    "sm.qqplot(samples_B, line='45', fit=True, ax=ax2)\n",
    "ax2.set_title('Q-Q Plot for Algorithm B')\n",
    "\n",
    "plt.tight_layout()\n",
    "plt.show()\n"
   ]
  },
  {
   "cell_type": "markdown",
   "metadata": {},
   "source": [
    "<h3 style=\"color: #33ccff;\">5c. Testing for Homogeneity of Variances (equal variances)</h3>\n",
    "\n",
    "Test the null hypothesis that all input samples are from populations with equal variances.\n",
    "* [Bartlett’s test](https://docs.scipy.org/doc/scipy/reference/generated/scipy.stats.bartlett.html#scipy.stats.bartlett) tests the null hypothesis that all input samples are from populations with equal variances.\n",
    "* For samples from significantly non-normal populations, [Levene’s test](https://docs.scipy.org/doc/scipy/reference/generated/scipy.stats.levene.html) is more robust and the preffered choice.\n"
   ]
  },
  {
   "cell_type": "code",
   "execution_count": 18,
   "metadata": {},
   "outputs": [
    {
     "name": "stdout",
     "output_type": "stream",
     "text": [
      "Bartlett's test statistic: 0.235\n",
      "P-value: 0.628\n",
      "Fail to reject the null hypothesis of equal variances: Variances might be equal \n"
     ]
    }
   ],
   "source": [
    "from scipy import stats\n",
    "\n",
    "# Conduct Bartlett's test for equal variances\n",
    "stat, p_value = stats.bartlett(samples_A, samples_B)\n",
    "\n",
    "print(f\"Bartlett's test statistic: {stat:.3f}\")\n",
    "print(f\"P-value: {p_value:.3f}\")\n",
    "\n",
    "alpha = 0.05\n",
    "if p_value <= alpha:\n",
    "    print(\"Reject the null hypothesis of equal variances: The variances are not equal\")\n",
    "else:\n",
    "    print(\"Fail to reject the null hypothesis of equal variances: Variances might be equal \")"
   ]
  },
  {
   "cell_type": "code",
   "execution_count": 17,
   "metadata": {},
   "outputs": [
    {
     "name": "stdout",
     "output_type": "stream",
     "text": [
      "Levene's test statistic: 0.180\n",
      "P-value: 0.672\n",
      "Fail to reject the null hypothesis of equal variances: Variances might be equal \n"
     ]
    }
   ],
   "source": [
    "from scipy import stats\n",
    "\n",
    "# Conduct Levene's test for equal variances\n",
    "stat, p_value = stats.levene(samples_A, samples_B)\n",
    "\n",
    "print(f\"Levene's test statistic: {stat:.3f}\")\n",
    "print(f\"P-value: {p_value:.3f}\")\n",
    "\n",
    "alpha = 0.05\n",
    "if p_value <= alpha:\n",
    "    print(\"Reject the null hypothesis of equal variances: The variances are not equal\")\n",
    "else:\n",
    "    print(\"Fail to reject the null hypothesis of equal variances: Variances might be equal \")"
   ]
  },
  {
   "cell_type": "markdown",
   "metadata": {},
   "source": [
    "<h3 style=\"color: #33ccff;\">6. Hypothesis Testing</h3>\n",
    "\n",
    "To test the null hypothesis that the mean performance of Algorithm A is equal to that of Algorithm B, we use statistical tests.\n",
    "The choice of test depends on the nature of the data and its distribution. We assume that experiments are performed under the same conditions, so that paired tests can be used.\n",
    "\n",
    "| Distribution   | Variances   | Appropriate Test                        |\n",
    "|----------------|-------------|-----------------------------------------|\n",
    "| **Normal**     | Equal       | Paired t-test                           |\n",
    "| **Normal**     | Unequal     | Paired t-test with Welch's correction   |\n",
    "| **Not Normal** | Any         | Wilcoxon signed-rank test               |\n",
    "| **Mixed**      | Any         | Mann-Whitney U test, Kolmogorov-Smirnov test |\n",
    "\n",
    "\n",
    "<h3 style=\"color: #33ccff;\">6a. Unequal Variances</h3>\n",
    "\n",
    "This can be done assuming unequal variances (Welch's t-test), which does not require the assumption of equal variances between the two groups. Here we use the scipy.stats [ttest_ind](https://docs.scipy.org/doc/scipy/reference/generated/scipy.stats.ttest_ind.html) in Python to perform this test."
   ]
  },
  {
   "cell_type": "code",
   "execution_count": 39,
   "metadata": {},
   "outputs": [
    {
     "name": "stdout",
     "output_type": "stream",
     "text": [
      "T-statistic: -1.1652\n",
      "P-value: 0.8780\n",
      "Fail to reject the null hypothesis: there is not enough evidence to conclude that Algorithm A performs better than Algorithm B.\n"
     ]
    }
   ],
   "source": [
    "from scipy import stats\n",
    "\n",
    "# Perform a two-sample t-test (Welch's t-test)\n",
    "t_stat, p_value = stats.ttest_ind(samples_A, samples_B, equal_var=False, alternative='greater')\n",
    "\n",
    "# Print the results of the t-test\n",
    "print(f\"T-statistic: {t_stat:.4f}\")\n",
    "print(f\"P-value: {p_value:.4f}\")\n",
    "\n",
    "# Decision on the null hypothesis based on p-value (alpha = 0.05)\n",
    "alpha = 0.05\n",
    "if p_value <= alpha:\n",
    "    print(\"Reject the null hypothesis: there is significant evidence that Algorithm A performs better than Algorithm B.\")\n",
    "else:\n",
    "    print(\"Fail to reject the null hypothesis: there is not enough evidence to conclude that Algorithm A performs better than Algorithm B.\")\n"
   ]
  },
  {
   "cell_type": "markdown",
   "metadata": {},
   "source": [
    "<h3 style=\"color: #33ccff;\">6b. Equal Variances</h3>\n",
    "\n",
    "When testing the hypothesis that two groups have different means and the variances of the distributions are equal (also known as homogeneity of variances), one would typically use the Student's t-test. This version of the t-test assumes that both groups being compared are drawn from populations with equal variances. This assumption allows for a more straightforward calculation of the standard error of the difference between means, which is crucial for the t-statistic calculation. Here we use the [ttest_ind](https://docs.scipy.org/doc/scipy/reference/generated/scipy.stats.ttest_ind.html) function."
   ]
  },
  {
   "cell_type": "code",
   "execution_count": 10,
   "metadata": {},
   "outputs": [
    {
     "name": "stdout",
     "output_type": "stream",
     "text": [
      "T-statistic: 3.753\n",
      "P-value: 0.0002\n",
      "Reject the null hypothesis: there is significant evidence that Algorithm A performs better than Algorithm B.\n"
     ]
    }
   ],
   "source": [
    "# Perform the Student's t-test for equal variances\n",
    "t_stat, p_value = stats.ttest_ind(samples_A, samples_B, equal_var=True)\n",
    "\n",
    "# Print the t-statistic and the p-value\n",
    "print(f\"T-statistic: {t_stat:.3f}\")\n",
    "print(f\"P-value: {p_value:.4f}\")\n",
    "\n",
    "alpha = 0.05\n",
    "if p_value <= alpha:\n",
    "    print(\"Reject the null hypothesis: there is significant evidence that Algorithm A performs better than Algorithm B.\")\n",
    "else:\n",
    "    print(\"Fail to reject the null hypothesis: there is not enough evidence to conclude that Algorithm A performs better than Algorithm B.\")"
   ]
  },
  {
   "cell_type": "markdown",
   "metadata": {},
   "source": [
    "<h3 style=\"color: #33ccff;\">7. Final Remarks</h3>\n",
    "\n",
    "ML experiments can become time and resource intensive. Given that often only small effect sizes are to be expected, approaches are needed to reduce computational cost, whilst maintaining the needed sample size for statistical testing. We propose, that experiments are carried out without the needed sample size in a first iteration and only the best performing candidates are put through a full sampling process.\n",
    "\n",
    "The full sampling process shall be the same for all candidates.\n",
    "\n",
    "Presenting the results:\n",
    "* Testing of null hypothesis\n",
    "* Quantified effect size, e.g., Cohen's d"
   ]
  }
 ],
 "metadata": {
  "kernelspec": {
   "display_name": "wambo310",
   "language": "python",
   "name": "python3"
  },
  "language_info": {
   "codemirror_mode": {
    "name": "ipython",
    "version": 3
   },
   "file_extension": ".py",
   "mimetype": "text/x-python",
   "name": "python",
   "nbconvert_exporter": "python",
   "pygments_lexer": "ipython3",
   "version": "3.10.9"
  }
 },
 "nbformat": 4,
 "nbformat_minor": 2
}
